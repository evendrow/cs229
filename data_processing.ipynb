{
 "cells": [
  {
   "cell_type": "code",
   "execution_count": 1,
   "metadata": {},
   "outputs": [],
   "source": [
    "import os\n",
    "from os import listdir\n",
    "from os.path import isfile, join"
   ]
  },
  {
   "cell_type": "code",
   "execution_count": 6,
   "metadata": {},
   "outputs": [],
   "source": [
    "arr = []\n",
    "for f in listdir(\"celeb\"):\n",
    "    if f[0] != \".\":\n",
    "        arr.append(f)\n",
    "arr.sort()\n",
    "# arr"
   ]
  },
  {
   "cell_type": "code",
   "execution_count": 26,
   "metadata": {},
   "outputs": [],
   "source": [
    "imgs = []\n",
    "for celeb in arr:\n",
    "    count = 1\n",
    "    \n",
    "    base = \"celeb/\" + celeb + \"/\"\n",
    "    path1 = base + \"beard\"\n",
    "    for f in listdir(path1):\n",
    "        if f[0] != \".\":\n",
    "            filename, file_extension = os.path.splitext(f)\n",
    "            new_name = celeb + \"_\" + str(count).zfill(4) + file_extension\n",
    "            count = count + 1\n",
    "            \n",
    "            old_path = base + \"beard/\" + f\n",
    "#             print(old_path)\n",
    "            new_path = base + new_name\n",
    "#             print(new_path)\n",
    "            os.rename(old_path, new_path)\n",
    "    \n",
    "    path1 = base + \"no_beard\"\n",
    "    for f in listdir(path1):\n",
    "        if f[0] != \".\":\n",
    "            filename, file_extension = os.path.splitext(f)\n",
    "            new_name = celeb + \"_\" + str(count).zfill(4) + file_extension\n",
    "            count = count + 1\n",
    "            \n",
    "            old_path = base + \"no_beard/\" + f\n",
    "#             print(old_path)\n",
    "            new_path = base + new_name\n",
    "#             print(new_path)\n",
    "            os.rename(old_path, new_path)"
   ]
  },
  {
   "cell_type": "code",
   "execution_count": 27,
   "metadata": {},
   "outputs": [],
   "source": [
    "# misc folder\n",
    "count = 1\n",
    "    \n",
    "base = \"misc/\"\n",
    "path1 = base + \"beard\"\n",
    "for f in listdir(path1):\n",
    "    if f[0] != \".\":\n",
    "        filename, file_extension = os.path.splitext(f)\n",
    "        new_name = celeb + \"_\" + str(count).zfill(4) + file_extension\n",
    "        count = count + 1\n",
    "\n",
    "        old_path = base + \"beard/\" + f\n",
    "#             print(old_path)\n",
    "        new_path = base + new_name\n",
    "#             print(new_path)\n",
    "        os.rename(old_path, new_path)\n",
    "\n",
    "path1 = base + \"no_beard\"\n",
    "for f in listdir(path1):\n",
    "    if f[0] != \".\":\n",
    "        filename, file_extension = os.path.splitext(f)\n",
    "        new_name = celeb + \"_\" + str(count).zfill(4) + file_extension\n",
    "        count = count + 1\n",
    "\n",
    "        old_path = base + \"no_beard/\" + f\n",
    "#             print(old_path)\n",
    "        new_path = base + new_name\n",
    "#             print(new_path)\n",
    "        os.rename(old_path, new_path)"
   ]
  },
  {
   "cell_type": "code",
   "execution_count": 31,
   "metadata": {},
   "outputs": [],
   "source": [
    "name = \"misc\"\n",
    "arr = []\n",
    "for f in listdir(name):\n",
    "    if f[0] != \".\":\n",
    "        arr.append(f)\n",
    "arr.sort()\n",
    "# arr"
   ]
  },
  {
   "cell_type": "code",
   "execution_count": 33,
   "metadata": {},
   "outputs": [],
   "source": [
    "new_names = []\n",
    "for i in range(len(arr)):\n",
    "    filename, file_extension = os.path.splitext(arr[i])\n",
    "    new_name = \"misc_\" + str(i+1).zfill(4) + file_extension\n",
    "    new_names.append(new_name)\n",
    "# new_names"
   ]
  },
  {
   "cell_type": "code",
   "execution_count": 34,
   "metadata": {},
   "outputs": [],
   "source": [
    "for i in range(len(new_names)):\n",
    "    new_name = \"misc/\" + new_names[i]\n",
    "    old_name = \"misc/\" + arr[i]\n",
    "#     print(new_name)\n",
    "#     print(old_name)\n",
    "    \n",
    "#     if path.exists(\"guru99.txt\"):\n",
    "    # get the path to the file in the current directory\n",
    "#         src = path.realpath(\"guru99.txt\");\n",
    "\n",
    "    # rename the original file\n",
    "    os.rename(old_name,new_name) \n"
   ]
  },
  {
   "cell_type": "code",
   "execution_count": null,
   "metadata": {},
   "outputs": [],
   "source": []
  }
 ],
 "metadata": {
  "kernelspec": {
   "display_name": "Python [conda env:tensorflow_p36]",
   "language": "python",
   "name": "conda-env-tensorflow_p36-py"
  },
  "language_info": {
   "codemirror_mode": {
    "name": "ipython",
    "version": 3
   },
   "file_extension": ".py",
   "mimetype": "text/x-python",
   "name": "python",
   "nbconvert_exporter": "python",
   "pygments_lexer": "ipython3",
   "version": "3.6.5"
  }
 },
 "nbformat": 4,
 "nbformat_minor": 2
}
