{
 "cells": [
  {
   "cell_type": "code",
   "execution_count": 10,
   "metadata": {},
   "outputs": [],
   "source": [
    "import os\n",
    "from os import listdir\n",
    "from os.path import isfile, join"
   ]
  },
  {
   "cell_type": "code",
   "execution_count": 53,
   "metadata": {},
   "outputs": [
    {
     "data": {
      "text/plain": [
       "['Rudd_1.png',\n",
       " 'Rudd_11.png',\n",
       " 'Rudd_12.png',\n",
       " 'Rudd_13.png',\n",
       " 'Rudd_14.png',\n",
       " 'Rudd_15.png',\n",
       " 'Rudd_16.png',\n",
       " 'Rudd_17.png',\n",
       " 'Rudd_18.png',\n",
       " 'Rudd_19.png',\n",
       " 'Rudd_2.png',\n",
       " 'Rudd_20.png',\n",
       " 'Rudd_21.png',\n",
       " 'Rudd_22.png',\n",
       " 'Rudd_24.png',\n",
       " 'Rudd_4.png',\n",
       " 'Rudd_5.png',\n",
       " 'Rudd_6.png',\n",
       " 'Rudd_7.png',\n",
       " 'Rudd_8.png',\n",
       " 'Rudd_9.png']"
      ]
     },
     "execution_count": 53,
     "metadata": {},
     "output_type": "execute_result"
    }
   ],
   "source": [
    "name = \"Paul_Rudd\"\n",
    "arr = []\n",
    "for f in listdir(name):\n",
    "    arr.append(f)\n",
    "arr.sort()\n",
    "arr"
   ]
  },
  {
   "cell_type": "code",
   "execution_count": 54,
   "metadata": {},
   "outputs": [],
   "source": [
    "new_names = []\n",
    "for i in range(len(arr)):\n",
    "    filename, file_extension = os.path.splitext(arr[i])\n",
    "    new_name = name + \"_\" + str(i+1).zfill(4) + file_extension\n",
    "    new_names.append(new_name)"
   ]
  },
  {
   "cell_type": "code",
   "execution_count": 55,
   "metadata": {},
   "outputs": [
    {
     "data": {
      "text/plain": [
       "['Paul_Rudd_0001.png',\n",
       " 'Paul_Rudd_0002.png',\n",
       " 'Paul_Rudd_0003.png',\n",
       " 'Paul_Rudd_0004.png',\n",
       " 'Paul_Rudd_0005.png',\n",
       " 'Paul_Rudd_0006.png',\n",
       " 'Paul_Rudd_0007.png',\n",
       " 'Paul_Rudd_0008.png',\n",
       " 'Paul_Rudd_0009.png',\n",
       " 'Paul_Rudd_0010.png',\n",
       " 'Paul_Rudd_0011.png',\n",
       " 'Paul_Rudd_0012.png',\n",
       " 'Paul_Rudd_0013.png',\n",
       " 'Paul_Rudd_0014.png',\n",
       " 'Paul_Rudd_0015.png',\n",
       " 'Paul_Rudd_0016.png',\n",
       " 'Paul_Rudd_0017.png',\n",
       " 'Paul_Rudd_0018.png',\n",
       " 'Paul_Rudd_0019.png',\n",
       " 'Paul_Rudd_0020.png',\n",
       " 'Paul_Rudd_0021.png']"
      ]
     },
     "execution_count": 55,
     "metadata": {},
     "output_type": "execute_result"
    }
   ],
   "source": [
    "new_names"
   ]
  },
  {
   "cell_type": "code",
   "execution_count": 56,
   "metadata": {},
   "outputs": [
    {
     "name": "stdout",
     "output_type": "stream",
     "text": [
      "Paul_Rudd/Paul_Rudd_0001.png\n",
      "Paul_Rudd/Rudd_1.png\n",
      "Paul_Rudd/Paul_Rudd_0002.png\n",
      "Paul_Rudd/Rudd_11.png\n",
      "Paul_Rudd/Paul_Rudd_0003.png\n",
      "Paul_Rudd/Rudd_12.png\n",
      "Paul_Rudd/Paul_Rudd_0004.png\n",
      "Paul_Rudd/Rudd_13.png\n",
      "Paul_Rudd/Paul_Rudd_0005.png\n",
      "Paul_Rudd/Rudd_14.png\n",
      "Paul_Rudd/Paul_Rudd_0006.png\n",
      "Paul_Rudd/Rudd_15.png\n",
      "Paul_Rudd/Paul_Rudd_0007.png\n",
      "Paul_Rudd/Rudd_16.png\n",
      "Paul_Rudd/Paul_Rudd_0008.png\n",
      "Paul_Rudd/Rudd_17.png\n",
      "Paul_Rudd/Paul_Rudd_0009.png\n",
      "Paul_Rudd/Rudd_18.png\n",
      "Paul_Rudd/Paul_Rudd_0010.png\n",
      "Paul_Rudd/Rudd_19.png\n",
      "Paul_Rudd/Paul_Rudd_0011.png\n",
      "Paul_Rudd/Rudd_2.png\n",
      "Paul_Rudd/Paul_Rudd_0012.png\n",
      "Paul_Rudd/Rudd_20.png\n",
      "Paul_Rudd/Paul_Rudd_0013.png\n",
      "Paul_Rudd/Rudd_21.png\n",
      "Paul_Rudd/Paul_Rudd_0014.png\n",
      "Paul_Rudd/Rudd_22.png\n",
      "Paul_Rudd/Paul_Rudd_0015.png\n",
      "Paul_Rudd/Rudd_24.png\n",
      "Paul_Rudd/Paul_Rudd_0016.png\n",
      "Paul_Rudd/Rudd_4.png\n",
      "Paul_Rudd/Paul_Rudd_0017.png\n",
      "Paul_Rudd/Rudd_5.png\n",
      "Paul_Rudd/Paul_Rudd_0018.png\n",
      "Paul_Rudd/Rudd_6.png\n",
      "Paul_Rudd/Paul_Rudd_0019.png\n",
      "Paul_Rudd/Rudd_7.png\n",
      "Paul_Rudd/Paul_Rudd_0020.png\n",
      "Paul_Rudd/Rudd_8.png\n",
      "Paul_Rudd/Paul_Rudd_0021.png\n",
      "Paul_Rudd/Rudd_9.png\n"
     ]
    }
   ],
   "source": [
    "for i in range(len(new_names)):\n",
    "    new_name = name + \"/\" + new_names[i]\n",
    "    old_name = name + \"/\" + arr[i]\n",
    "    print(new_name)\n",
    "    print(old_name)\n",
    "    \n",
    "#     if path.exists(\"guru99.txt\"):\n",
    "    # get the path to the file in the current directory\n",
    "#         src = path.realpath(\"guru99.txt\");\n",
    "\n",
    "    # rename the original file\n",
    "    os.rename(old_name,new_name) \n",
    "\n",
    "# if path.exists(\"guru99.txt\"):\n",
    "#     # get the path to the file in the current directory\n",
    "#         src = path.realpath(\"guru99.txt\");\n",
    "\n",
    "#     # rename the original file\n",
    "#         os.rename('guru99.txt','career.guru99.txt') "
   ]
  },
  {
   "cell_type": "code",
   "execution_count": 84,
   "metadata": {},
   "outputs": [
    {
     "name": "stdout",
     "output_type": "stream",
     "text": [
      "Ben_Affleck\t30\tChris_Evans\t25\n",
      "John_Hamm\t1\tDaniel_Radcliffe\t32\n",
      "Daniel_Radcliffe\t6\tHagrid\t16\n",
      "John_Hamm\t21\tChris_Evans\t24\n",
      "Henry_Cavill\t20\tDaniel_Radcliffe\t21\n",
      "Paul_Rudd\t12\tChristoph_Waltz\t28\n",
      "Henry_Cavill\t2\tPaul_Rudd\t10\n",
      "Christoph_Waltz\t19\tChris_Evans\t27\n",
      "Hagrid\t14\tDaniel_Radcliffe\t28\n",
      "Hagrid\t17\tJohn_Hamm\t7\n",
      "Paul_Rudd\t15\tJohn_Hamm\t34\n",
      "Paul_Rudd\t12\tDaniel_Radcliffe\t16\n",
      "Henry_Cavill\t21\tBen_Affleck\t8\n",
      "Paul_Rudd\t3\tHenry_Cavill\t12\n",
      "Hagrid\t11\tBen_Affleck\t27\n",
      "Chris_Evans\t35\tDaniel_Radcliffe\t2\n",
      "Ben_Affleck\t14\tChristoph_Waltz\t26\n",
      "Ben_Affleck\t16\tChris_Evans\t16\n",
      "Christoph_Waltz\t31\tBen_Affleck\t1\n",
      "Chris_Evans\t21\tChristoph_Waltz\t6\n",
      "Henry_Cavill\t23\tChristoph_Waltz\t28\n",
      "Hagrid\t12\tHenry_Cavill\t1\n",
      "Henry_Cavill\t10\tDaniel_Radcliffe\t30\n",
      "Daniel_Radcliffe\t10\tChris_Evans\t18\n",
      "Henry_Cavill\t14\tChristoph_Waltz\t39\n",
      "Hagrid\t3\tHenry_Cavill\t27\n",
      "Hagrid\t7\tPaul_Rudd\t15\n",
      "Christoph_Waltz\t21\tChris_Evans\t34\n",
      "Christoph_Waltz\t33\tJohn_Hamm\t1\n",
      "John_Hamm\t46\tHagrid\t4\n",
      "Daniel_Radcliffe\t6\tChristoph_Waltz\t30\n",
      "Ben_Affleck\t25\tDaniel_Radcliffe\t4\n",
      "John_Hamm\t16\tHagrid\t8\n",
      "John_Hamm\t1\tChris_Evans\t9\n",
      "Daniel_Radcliffe\t19\tJohn_Hamm\t30\n",
      "Hagrid\t13\tChris_Evans\t13\n",
      "Chris_Evans\t19\tJohn_Hamm\t42\n",
      "Daniel_Radcliffe\t7\tHenry_Cavill\t6\n",
      "Daniel_Radcliffe\t28\tPaul_Rudd\t16\n",
      "Chris_Evans\t33\tBen_Affleck\t13\n",
      "Daniel_Radcliffe\t37\tHenry_Cavill\t1\n",
      "Hagrid\t2\tPaul_Rudd\t4\n"
     ]
    }
   ],
   "source": [
    "names = [\"Ben_Affleck\", \"Chris_Evans\", \"Christoph_Waltz\", \"Daniel_Radcliffe\", \"Hagrid\", \"Henry_Cavill\", \"John_Hamm\", \"Paul_Rudd\"]\n",
    "nums = [35, 37, 40, 38, 20, 30, 46, 21]\n",
    "for i in range(47):\n",
    "    first_id = random.randint(0,7)\n",
    "    second_id = random.randint(0,7)\n",
    "    if first_id != second_id:\n",
    "        first = random.randint(1,nums[first_id])\n",
    "        second = random.randint(1,nums[second_id])\n",
    "        print(names[first_id] + \"\\t\" + str(first) + \"\\t\" + str(names[second_id]) + \"\\t\" + str(second))"
   ]
  },
  {
   "cell_type": "code",
   "execution_count": 87,
   "metadata": {},
   "outputs": [
    {
     "name": "stdout",
     "output_type": "stream",
     "text": [
      "Chris_Evans\t12\t31\n",
      "John_Hamm\t31\t17\n",
      "John_Hamm\t14\t13\n",
      "Chris_Evans\t21\t2\n",
      "Christoph_Waltz\t14\t17\n",
      "Ben_Affleck\t20\t21\n",
      "John_Hamm\t32\t33\n",
      "Paul_Rudd\t19\t15\n",
      "Henry_Cavill\t14\t24\n",
      "Daniel_Radcliffe\t1\t14\n",
      "Christoph_Waltz\t10\t7\n",
      "Paul_Rudd\t1\t8\n",
      "John_Hamm\t42\t8\n",
      "Paul_Rudd\t1\t20\n",
      "John_Hamm\t37\t19\n",
      "Chris_Evans\t11\t36\n",
      "John_Hamm\t1\t15\n",
      "Ben_Affleck\t5\t27\n",
      "Christoph_Waltz\t17\t1\n"
     ]
    }
   ],
   "source": [
    "names = [\"Ben_Affleck\", \"Chris_Evans\", \"Christoph_Waltz\", \"Daniel_Radcliffe\", \"Hagrid\", \"Henry_Cavill\", \"John_Hamm\", \"Paul_Rudd\"]\n",
    "nums = [35, 37, 40, 38, 20, 30, 46, 21]\n",
    "for i in range(20):\n",
    "    first_id = random.randint(0,7)\n",
    "    first = random.randint(1,nums[first_id])\n",
    "    second = random.randint(1,nums[first_id])\n",
    "    if first != second:\n",
    "        print(names[first_id] + \"\\t\" + str(first) + \"\\t\" + str(second))"
   ]
  },
  {
   "cell_type": "code",
   "execution_count": 65,
   "metadata": {},
   "outputs": [
    {
     "data": {
      "text/plain": [
       "6"
      ]
     },
     "execution_count": 65,
     "metadata": {},
     "output_type": "execute_result"
    }
   ],
   "source": []
  },
  {
   "cell_type": "code",
   "execution_count": null,
   "metadata": {},
   "outputs": [],
   "source": []
  },
  {
   "cell_type": "code",
   "execution_count": null,
   "metadata": {},
   "outputs": [],
   "source": []
  }
 ],
 "metadata": {
  "kernelspec": {
   "display_name": "Python [conda env:tensorflow_p36]",
   "language": "python",
   "name": "conda-env-tensorflow_p36-py"
  },
  "language_info": {
   "codemirror_mode": {
    "name": "ipython",
    "version": 3
   },
   "file_extension": ".py",
   "mimetype": "text/x-python",
   "name": "python",
   "nbconvert_exporter": "python",
   "pygments_lexer": "ipython3",
   "version": "3.6.5"
  }
 },
 "nbformat": 4,
 "nbformat_minor": 2
}
